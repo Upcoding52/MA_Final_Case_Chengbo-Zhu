{
 "cells": [
  {
   "cell_type": "code",
   "execution_count": 1,
   "metadata": {},
   "outputs": [],
   "source": [
    "import pandas as pd\n",
    "sub_data = pd.read_csv('subscribers.csv')"
   ]
  },
  {
   "cell_type": "code",
   "execution_count": 2,
   "metadata": {},
   "outputs": [],
   "source": [
    "data1 = sub_data[['package_type','preferred_genre', 'intended_use', 'weekly_consumption_hour',\n",
    "                          'age', 'male_TF', 'plan_type','monthly_price', 'join_fee', \n",
    "                  'attribution_technical','attribution_survey', 'op_sys', 'discount_price','payment_period',\n",
    "                 'cancel_date','current_sub_TF']]\n",
    "data1 = data1[data1.age<100]\n",
    "data1 = data1[data1.age>10]\n",
    "data1 = data1[data1.weekly_consumption_hour>0]\n",
    "#data1.dropna(inplace=True)"
   ]
  },
  {
   "cell_type": "code",
   "execution_count": 3,
   "metadata": {},
   "outputs": [
    {
     "data": {
      "text/html": [
       "<div>\n",
       "<style scoped>\n",
       "    .dataframe tbody tr th:only-of-type {\n",
       "        vertical-align: middle;\n",
       "    }\n",
       "\n",
       "    .dataframe tbody tr th {\n",
       "        vertical-align: top;\n",
       "    }\n",
       "\n",
       "    .dataframe thead th {\n",
       "        text-align: right;\n",
       "    }\n",
       "</style>\n",
       "<table border=\"1\" class=\"dataframe\">\n",
       "  <thead>\n",
       "    <tr style=\"text-align: right;\">\n",
       "      <th></th>\n",
       "      <th>weekly_consumption_hour</th>\n",
       "      <th>age</th>\n",
       "      <th>monthly_price</th>\n",
       "      <th>join_fee</th>\n",
       "      <th>discount_price</th>\n",
       "      <th>payment_period</th>\n",
       "      <th>churn</th>\n",
       "    </tr>\n",
       "  </thead>\n",
       "  <tbody>\n",
       "    <tr>\n",
       "      <th>count</th>\n",
       "      <td>188718.000000</td>\n",
       "      <td>188718.000000</td>\n",
       "      <td>188718.000000</td>\n",
       "      <td>188718.000000</td>\n",
       "      <td>188718.000000</td>\n",
       "      <td>188718.000000</td>\n",
       "      <td>182316.000000</td>\n",
       "    </tr>\n",
       "    <tr>\n",
       "      <th>mean</th>\n",
       "      <td>28.007279</td>\n",
       "      <td>46.142639</td>\n",
       "      <td>4.734884</td>\n",
       "      <td>0.115269</td>\n",
       "      <td>4.514929</td>\n",
       "      <td>0.768575</td>\n",
       "      <td>0.417884</td>\n",
       "    </tr>\n",
       "    <tr>\n",
       "      <th>std</th>\n",
       "      <td>4.949419</td>\n",
       "      <td>13.954908</td>\n",
       "      <td>0.015787</td>\n",
       "      <td>0.177169</td>\n",
       "      <td>0.021783</td>\n",
       "      <td>0.783617</td>\n",
       "      <td>0.493212</td>\n",
       "    </tr>\n",
       "    <tr>\n",
       "      <th>min</th>\n",
       "      <td>1.202235</td>\n",
       "      <td>16.000000</td>\n",
       "      <td>4.000300</td>\n",
       "      <td>-0.660600</td>\n",
       "      <td>3.780100</td>\n",
       "      <td>0.000000</td>\n",
       "      <td>0.000000</td>\n",
       "    </tr>\n",
       "    <tr>\n",
       "      <th>25%</th>\n",
       "      <td>24.401536</td>\n",
       "      <td>35.000000</td>\n",
       "      <td>4.734300</td>\n",
       "      <td>0.036700</td>\n",
       "      <td>4.514100</td>\n",
       "      <td>0.000000</td>\n",
       "      <td>0.000000</td>\n",
       "    </tr>\n",
       "    <tr>\n",
       "      <th>50%</th>\n",
       "      <td>27.301448</td>\n",
       "      <td>46.000000</td>\n",
       "      <td>4.734300</td>\n",
       "      <td>0.036700</td>\n",
       "      <td>4.514100</td>\n",
       "      <td>1.000000</td>\n",
       "      <td>0.000000</td>\n",
       "    </tr>\n",
       "    <tr>\n",
       "      <th>75%</th>\n",
       "      <td>30.201361</td>\n",
       "      <td>57.000000</td>\n",
       "      <td>4.734300</td>\n",
       "      <td>0.110100</td>\n",
       "      <td>4.514100</td>\n",
       "      <td>1.000000</td>\n",
       "      <td>1.000000</td>\n",
       "    </tr>\n",
       "    <tr>\n",
       "      <th>max</th>\n",
       "      <td>76.599962</td>\n",
       "      <td>99.000000</td>\n",
       "      <td>5.101300</td>\n",
       "      <td>0.734000</td>\n",
       "      <td>5.027900</td>\n",
       "      <td>3.000000</td>\n",
       "      <td>1.000000</td>\n",
       "    </tr>\n",
       "  </tbody>\n",
       "</table>\n",
       "</div>"
      ],
      "text/plain": [
       "       weekly_consumption_hour            age  monthly_price       join_fee  \\\n",
       "count            188718.000000  188718.000000  188718.000000  188718.000000   \n",
       "mean                 28.007279      46.142639       4.734884       0.115269   \n",
       "std                   4.949419      13.954908       0.015787       0.177169   \n",
       "min                   1.202235      16.000000       4.000300      -0.660600   \n",
       "25%                  24.401536      35.000000       4.734300       0.036700   \n",
       "50%                  27.301448      46.000000       4.734300       0.036700   \n",
       "75%                  30.201361      57.000000       4.734300       0.110100   \n",
       "max                  76.599962      99.000000       5.101300       0.734000   \n",
       "\n",
       "       discount_price  payment_period          churn  \n",
       "count   188718.000000   188718.000000  182316.000000  \n",
       "mean         4.514929        0.768575       0.417884  \n",
       "std          0.021783        0.783617       0.493212  \n",
       "min          3.780100        0.000000       0.000000  \n",
       "25%          4.514100        0.000000       0.000000  \n",
       "50%          4.514100        1.000000       0.000000  \n",
       "75%          4.514100        1.000000       1.000000  \n",
       "max          5.027900        3.000000       1.000000  "
      ]
     },
     "execution_count": 3,
     "metadata": {},
     "output_type": "execute_result"
    }
   ],
   "source": [
    "import numpy as np\n",
    "import math\n",
    "conditions = [\n",
    "    (data1['payment_period'] == 0) & (data1['current_sub_TF'] == False),\n",
    "    (data1['payment_period'] == 0) & (data1['current_sub_TF'] == True) & (data1['cancel_date'].notna()),\n",
    "    (data1['payment_period'] == 0) & (data1['current_sub_TF'] == True) & (data1['cancel_date'].isnull()),\n",
    "    ]\n",
    "\n",
    "# create a list of the values we want to assign for each condition\n",
    "values = [1,1,np.nan]\n",
    "\n",
    "# create a new column and use np.select to assign values to it using our lists as arguments\n",
    "data1['churn'] = np.select(conditions, values)\n",
    "data1.describe()"
   ]
  },
  {
   "cell_type": "code",
   "execution_count": 4,
   "metadata": {},
   "outputs": [
    {
     "name": "stdout",
     "output_type": "stream",
     "text": [
      "<class 'pandas.core.frame.DataFrame'>\n",
      "Int64Index: 19157 entries, 9 to 227627\n",
      "Data columns (total 17 columns):\n",
      " #   Column                   Non-Null Count  Dtype  \n",
      "---  ------                   --------------  -----  \n",
      " 0   package_type             19157 non-null  object \n",
      " 1   preferred_genre          19157 non-null  object \n",
      " 2   intended_use             19157 non-null  object \n",
      " 3   weekly_consumption_hour  19157 non-null  float64\n",
      " 4   age                      19157 non-null  float64\n",
      " 5   male_TF                  19157 non-null  object \n",
      " 6   plan_type                19157 non-null  object \n",
      " 7   monthly_price            19157 non-null  float64\n",
      " 8   join_fee                 19157 non-null  float64\n",
      " 9   attribution_technical    19157 non-null  object \n",
      " 10  attribution_survey       19157 non-null  object \n",
      " 11  op_sys                   19157 non-null  object \n",
      " 12  discount_price           19157 non-null  float64\n",
      " 13  payment_period           19157 non-null  int64  \n",
      " 14  cancel_date              19157 non-null  object \n",
      " 15  current_sub_TF           19157 non-null  bool   \n",
      " 16  churn                    19157 non-null  float64\n",
      "dtypes: bool(1), float64(6), int64(1), object(9)\n",
      "memory usage: 2.5+ MB\n"
     ]
    }
   ],
   "source": [
    "data1.dropna(inplace=True)\n",
    "data1.info()"
   ]
  },
  {
   "cell_type": "code",
   "execution_count": 5,
   "metadata": {},
   "outputs": [],
   "source": [
    "data2 = pd.get_dummies(data=data1, columns=['package_type','preferred_genre', \n",
    "                                                      'intended_use',\n",
    "                                                       'male_TF', 'attribution_technical',\n",
    "                                                      'attribution_survey',\n",
    "                                                      'op_sys','plan_type'])\n"
   ]
  },
  {
   "cell_type": "code",
   "execution_count": 6,
   "metadata": {},
   "outputs": [],
   "source": [
    "data2= data2.drop(columns=['payment_period','cancel_date','current_sub_TF'],axis=1)"
   ]
  },
  {
   "cell_type": "code",
   "execution_count": 7,
   "metadata": {},
   "outputs": [],
   "source": [
    "from sklearn.model_selection import train_test_split\n",
    "X_train, X_test, y_train, y_test = train_test_split(\n",
    "         data2.drop(columns=['churn'],axis=1), data2['churn'], test_size=0.3, random_state=47)"
   ]
  },
  {
   "cell_type": "code",
   "execution_count": 8,
   "metadata": {},
   "outputs": [
    {
     "name": "stdout",
     "output_type": "stream",
     "text": [
      "Accuracy: 0.7738343771746694\n",
      "AUC: 0.8085586306191009\n",
      "              precision    recall  f1-score   support\n",
      "\n",
      "         0.0       0.52      0.34      0.41      1330\n",
      "         1.0       0.82      0.91      0.86      4418\n",
      "\n",
      "    accuracy                           0.77      5748\n",
      "   macro avg       0.67      0.62      0.63      5748\n",
      "weighted avg       0.75      0.77      0.76      5748\n",
      "\n"
     ]
    }
   ],
   "source": [
    "import xgboost as xgb\n",
    "from sklearn import metrics \n",
    "xgb_model = xgb.XGBClassifier(random_state=47)\n",
    "xgb_model.fit(X_train, y_train)\n",
    "y_pred = xgb_model.predict(X_test)\n",
    "y_prob = xgb_model.predict_proba(X_test)[:,1]\n",
    "print(\"Accuracy:\",metrics.accuracy_score(y_test, y_pred))\n",
    "print(\"AUC:\",metrics.roc_auc_score(y_test, y_prob))\n",
    "print(metrics.classification_report(y_test,y_pred))"
   ]
  },
  {
   "cell_type": "code",
   "execution_count": 9,
   "metadata": {},
   "outputs": [
    {
     "name": "stdout",
     "output_type": "stream",
     "text": [
      "Accuracy: 0.7807933194154488\n",
      "AUC: 0.8075133510553204\n",
      "              precision    recall  f1-score   support\n",
      "\n",
      "         0.0       0.55      0.30      0.39      1330\n",
      "         1.0       0.82      0.92      0.87      4418\n",
      "\n",
      "    accuracy                           0.78      5748\n",
      "   macro avg       0.68      0.61      0.63      5748\n",
      "weighted avg       0.75      0.78      0.76      5748\n",
      "\n"
     ]
    },
    {
     "name": "stderr",
     "output_type": "stream",
     "text": [
      "/opt/anaconda3/lib/python3.8/site-packages/sklearn/linear_model/_logistic.py:762: ConvergenceWarning: lbfgs failed to converge (status=1):\n",
      "STOP: TOTAL NO. of ITERATIONS REACHED LIMIT.\n",
      "\n",
      "Increase the number of iterations (max_iter) or scale the data as shown in:\n",
      "    https://scikit-learn.org/stable/modules/preprocessing.html\n",
      "Please also refer to the documentation for alternative solver options:\n",
      "    https://scikit-learn.org/stable/modules/linear_model.html#logistic-regression\n",
      "  n_iter_i = _check_optimize_result(\n"
     ]
    }
   ],
   "source": [
    "from sklearn.linear_model import LogisticRegression\n",
    "lg_model = LogisticRegression(random_state=47)\n",
    "lg_model.fit(X_train, y_train)\n",
    "y_pred = lg_model.predict(X_test)\n",
    "y_prob = lg_model.predict_proba(X_test)[:,1]\n",
    "print(\"Accuracy:\",metrics.accuracy_score(y_test, y_pred))\n",
    "print(\"AUC:\",metrics.roc_auc_score(y_test, y_prob))\n",
    "print(metrics.classification_report(y_test,y_pred))"
   ]
  },
  {
   "cell_type": "code",
   "execution_count": null,
   "metadata": {},
   "outputs": [],
   "source": []
  }
 ],
 "metadata": {
  "kernelspec": {
   "display_name": "Python 3",
   "language": "python",
   "name": "python3"
  },
  "language_info": {
   "codemirror_mode": {
    "name": "ipython",
    "version": 3
   },
   "file_extension": ".py",
   "mimetype": "text/x-python",
   "name": "python",
   "nbconvert_exporter": "python",
   "pygments_lexer": "ipython3",
   "version": "3.8.3"
  }
 },
 "nbformat": 4,
 "nbformat_minor": 4
}
